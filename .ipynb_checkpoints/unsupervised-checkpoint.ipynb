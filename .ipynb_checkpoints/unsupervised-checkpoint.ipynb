{
 "cells": [
  {
   "cell_type": "code",
   "execution_count": 1,
   "id": "6c5ce0b6-29ed-40e6-94a7-f81a58a56207",
   "metadata": {},
   "outputs": [],
   "source": [
    "import numpy as np\n",
    "import pandas as pd"
   ]
  },
  {
   "cell_type": "code",
   "execution_count": 3,
   "id": "cf8fd279-40cd-46aa-bb7b-6e5bd3446936",
   "metadata": {},
   "outputs": [
    {
     "name": "stdout",
     "output_type": "stream",
     "text": [
      "the shape of data is (200, 2)\n"
     ]
    },
    {
     "data": {
      "text/html": [
       "<div>\n",
       "<style scoped>\n",
       "    .dataframe tbody tr th:only-of-type {\n",
       "        vertical-align: middle;\n",
       "    }\n",
       "\n",
       "    .dataframe tbody tr th {\n",
       "        vertical-align: top;\n",
       "    }\n",
       "\n",
       "    .dataframe thead th {\n",
       "        text-align: right;\n",
       "    }\n",
       "</style>\n",
       "<table border=\"1\" class=\"dataframe\">\n",
       "  <thead>\n",
       "    <tr style=\"text-align: right;\">\n",
       "      <th></th>\n",
       "      <th>cgpa</th>\n",
       "      <th>iq</th>\n",
       "    </tr>\n",
       "  </thead>\n",
       "  <tbody>\n",
       "    <tr>\n",
       "      <th>0</th>\n",
       "      <td>5.13</td>\n",
       "      <td>88</td>\n",
       "    </tr>\n",
       "    <tr>\n",
       "      <th>1</th>\n",
       "      <td>5.90</td>\n",
       "      <td>113</td>\n",
       "    </tr>\n",
       "    <tr>\n",
       "      <th>2</th>\n",
       "      <td>8.36</td>\n",
       "      <td>93</td>\n",
       "    </tr>\n",
       "    <tr>\n",
       "      <th>3</th>\n",
       "      <td>8.27</td>\n",
       "      <td>97</td>\n",
       "    </tr>\n",
       "    <tr>\n",
       "      <th>4</th>\n",
       "      <td>5.45</td>\n",
       "      <td>110</td>\n",
       "    </tr>\n",
       "  </tbody>\n",
       "</table>\n",
       "</div>"
      ],
      "text/plain": [
       "   cgpa   iq\n",
       "0  5.13   88\n",
       "1  5.90  113\n",
       "2  8.36   93\n",
       "3  8.27   97\n",
       "4  5.45  110"
      ]
     },
     "execution_count": 3,
     "metadata": {},
     "output_type": "execute_result"
    }
   ],
   "source": [
    "df = pd.read_csv('student_clustering.csv')\n",
    "print(\"the shape of data is\",df.shape)\n",
    "df.head()"
   ]
  },
  {
   "cell_type": "code",
   "execution_count": 4,
   "id": "468ba17d-ec55-4b4a-bd5d-1fb7c77675e5",
   "metadata": {},
   "outputs": [
    {
     "data": {
      "text/plain": [
       "<matplotlib.collections.PathCollection at 0x264e173db10>"
      ]
     },
     "execution_count": 4,
     "metadata": {},
     "output_type": "execute_result"
    },
    {
     "data": {
      "image/png": "[encoded data removed]",
      "text/plain": [
       "<Figure size 640x480 with 1 Axes>"
      ]
     },
     "metadata": {},
     "output_type": "display_data"
    }
   ],
   "source": [
    "import matplotlib.pyplot as plt\n",
    "plt.scatter(df['cgpa'],df['iq'])"
   ]
  },
  {
   "cell_type": "code",
   "execution_count": 5,
   "id": "21cc4c1d-137a-4200-a577-047b6328df54",
   "metadata": {},
   "outputs": [],
   "source": [
    "# now we clustter using algorithm\n",
    "# we use elbow method to find the value of k that is number of clusters"
   ]
  },
  {
   "cell_type": "code",
   "execution_count": 6,
   "id": "8da8b592-e1bf-42c0-af31-a24e083788d3",
   "metadata": {},
   "outputs": [],
   "source": [
    "from sklearn.cluster import KMeans"
   ]
  },
  {
   "cell_type": "code",
   "execution_count": 15,
   "id": "246225ad-5ca7-489c-a297-7e82b66880fd",
   "metadata": {},
   "outputs": [
    {
     "name": "stderr",
     "output_type": "stream",
     "text": [
      "C:\\Users\\patha\\anaconda3\\Lib\\site-packages\\sklearn\\cluster\\_kmeans.py:870: FutureWarning: The default value of `n_init` will change from 10 to 'auto' in 1.4. Set the value of `n_init` explicitly to suppress the warning\n",
      "  warnings.warn(\n",
      "C:\\Users\\patha\\anaconda3\\Lib\\site-packages\\sklearn\\cluster\\_kmeans.py:1382: UserWarning: KMeans is known to have a memory leak on Windows with MKL, when there are less chunks than available threads. You can avoid it by setting the environment variable OMP_NUM_THREADS=1.\n",
      "  warnings.warn(\n",
      "C:\\Users\\patha\\anaconda3\\Lib\\site-packages\\sklearn\\cluster\\_kmeans.py:870: FutureWarning: The default value of `n_init` will change from 10 to 'auto' in 1.4. Set the value of `n_init` explicitly to suppress the warning\n",
      "  warnings.warn(\n",
      "C:\\Users\\patha\\anaconda3\\Lib\\site-packages\\sklearn\\cluster\\_kmeans.py:1382: UserWarning: KMeans is known to have a memory leak on Windows with MKL, when there are less chunks than available threads. You can avoid it by setting the environment variable OMP_NUM_THREADS=1.\n",
      "  warnings.warn(\n",
      "C:\\Users\\patha\\anaconda3\\Lib\\site-packages\\sklearn\\cluster\\_kmeans.py:870: FutureWarning: The default value of `n_init` will change from 10 to 'auto' in 1.4. Set the value of `n_init` explicitly to suppress the warning\n",
      "  warnings.warn(\n",
      "C:\\Users\\patha\\anaconda3\\Lib\\site-packages\\sklearn\\cluster\\_kmeans.py:1382: UserWarning: KMeans is known to have a memory leak on Windows with MKL, when there are less chunks than available threads. You can avoid it by setting the environment variable OMP_NUM_THREADS=1.\n",
      "  warnings.warn(\n",
      "C:\\Users\\patha\\anaconda3\\Lib\\site-packages\\sklearn\\cluster\\_kmeans.py:870: FutureWarning: The default value of `n_init` will change from 10 to 'auto' in 1.4. Set the value of `n_init` explicitly to suppress the warning\n",
      "  warnings.warn(\n",
      "C:\\Users\\patha\\anaconda3\\Lib\\site-packages\\sklearn\\cluster\\_kmeans.py:1382: UserWarning: KMeans is known to have a memory leak on Windows with MKL, when there are less chunks than available threads. You can avoid it by setting the environment variable OMP_NUM_THREADS=1.\n",
      "  warnings.warn(\n",
      "C:\\Users\\patha\\anaconda3\\Lib\\site-packages\\sklearn\\cluster\\_kmeans.py:870: FutureWarning: The default value of `n_init` will change from 10 to 'auto' in 1.4. Set the value of `n_init` explicitly to suppress the warning\n",
      "  warnings.warn(\n",
      "C:\\Users\\patha\\anaconda3\\Lib\\site-packages\\sklearn\\cluster\\_kmeans.py:1382: UserWarning: KMeans is known to have a memory leak on Windows with MKL, when there are less chunks than available threads. You can avoid it by setting the environment variable OMP_NUM_THREADS=1.\n",
      "  warnings.warn(\n",
      "C:\\Users\\patha\\anaconda3\\Lib\\site-packages\\sklearn\\cluster\\_kmeans.py:870: FutureWarning: The default value of `n_init` will change from 10 to 'auto' in 1.4. Set the value of `n_init` explicitly to suppress the warning\n",
      "  warnings.warn(\n",
      "C:\\Users\\patha\\anaconda3\\Lib\\site-packages\\sklearn\\cluster\\_kmeans.py:1382: UserWarning: KMeans is known to have a memory leak on Windows with MKL, when there are less chunks than available threads. You can avoid it by setting the environment variable OMP_NUM_THREADS=1.\n",
      "  warnings.warn(\n",
      "C:\\Users\\patha\\anaconda3\\Lib\\site-packages\\sklearn\\cluster\\_kmeans.py:870: FutureWarning: The default value of `n_init` will change from 10 to 'auto' in 1.4. Set the value of `n_init` explicitly to suppress the warning\n",
      "  warnings.warn(\n",
      "C:\\Users\\patha\\anaconda3\\Lib\\site-packages\\sklearn\\cluster\\_kmeans.py:1382: UserWarning: KMeans is known to have a memory leak on Windows with MKL, when there are less chunks than available threads. You can avoid it by setting the environment variable OMP_NUM_THREADS=1.\n",
      "  warnings.warn(\n",
      "C:\\Users\\patha\\anaconda3\\Lib\\site-packages\\sklearn\\cluster\\_kmeans.py:870: FutureWarning: The default value of `n_init` will change from 10 to 'auto' in 1.4. Set the value of `n_init` explicitly to suppress the warning\n",
      "  warnings.warn(\n",
      "C:\\Users\\patha\\anaconda3\\Lib\\site-packages\\sklearn\\cluster\\_kmeans.py:1382: UserWarning: KMeans is known to have a memory leak on Windows with MKL, when there are less chunks than available threads. You can avoid it by setting the environment variable OMP_NUM_THREADS=1.\n",
      "  warnings.warn(\n",
      "C:\\Users\\patha\\anaconda3\\Lib\\site-packages\\sklearn\\cluster\\_kmeans.py:870: FutureWarning: The default value of `n_init` will change from 10 to 'auto' in 1.4. Set the value of `n_init` explicitly to suppress the warning\n",
      "  warnings.warn(\n",
      "C:\\Users\\patha\\anaconda3\\Lib\\site-packages\\sklearn\\cluster\\_kmeans.py:1382: UserWarning: KMeans is known to have a memory leak on Windows with MKL, when there are less chunks than available threads. You can avoid it by setting the environment variable OMP_NUM_THREADS=1.\n",
      "  warnings.warn(\n",
      "C:\\Users\\patha\\anaconda3\\Lib\\site-packages\\sklearn\\cluster\\_kmeans.py:870: FutureWarning: The default value of `n_init` will change from 10 to 'auto' in 1.4. Set the value of `n_init` explicitly to suppress the warning\n",
      "  warnings.warn(\n",
      "C:\\Users\\patha\\anaconda3\\Lib\\site-packages\\sklearn\\cluster\\_kmeans.py:1382: UserWarning: KMeans is known to have a memory leak on Windows with MKL, when there are less chunks than available threads. You can avoid it by setting the environment variable OMP_NUM_THREADS=1.\n",
      "  warnings.warn(\n"
     ]
    }
   ],
   "source": [
    "wcss = []\n",
    "for i in range(1,11):\n",
    "    km = KMeans(n_clusters=i)\n",
    "    km.fit_predict(df)\n",
    "    wcss.append(km.inertia_)"
   ]
  },
  {
   "cell_type": "code",
   "execution_count": 16,
   "id": "8e3f644a-1017-4d9b-9c17-de5ff0c7f7ac",
   "metadata": {},
   "outputs": [
    {
     "data": {
      "text/plain": [
       "[29957.898288,\n",
       " 4184.14127,\n",
       " 2362.7133489999997,\n",
       " 681.96966,\n",
       " 514.1616803171115,\n",
       " 420.74846722383256,\n",
       " 302.6534993582081,\n",
       " 233.54082485509016,\n",
       " 206.93812936151184,\n",
       " 172.3306941089866]"
      ]
     },
     "execution_count": 16,
     "metadata": {},
     "output_type": "execute_result"
    }
   ],
   "source": [
    "wcss"
   ]
  },
  {
   "cell_type": "code",
   "execution_count": 17,
   "id": "05fec2a2-5c41-4a8a-92ee-f985bdc0e453",
   "metadata": {},
   "outputs": [
    {
     "data": {
      "text/plain": [
       "[<matplotlib.lines.Line2D at 0x264e4e85650>]"
      ]
     },
     "execution_count": 17,
     "metadata": {},
     "output_type": "execute_result"
    },
    {
     "data": {
      "image/png": "[encoded data removed]",
      "text/plain": [
       "<Figure size 640x480 with 1 Axes>"
      ]
     },
     "metadata": {},
     "output_type": "display_data"
    }
   ],
   "source": [
    "plt.plot(range(1,11),wcss)"
   ]
  },
  {
   "cell_type": "code",
   "execution_count": 20,
   "id": "b61594e8-1cb7-4ba4-ac3e-4c4ce78f244e",
   "metadata": {},
   "outputs": [
    {
     "name": "stderr",
     "output_type": "stream",
     "text": [
      "C:\\Users\\patha\\anaconda3\\Lib\\site-packages\\sklearn\\cluster\\_kmeans.py:870: FutureWarning: The default value of `n_init` will change from 10 to 'auto' in 1.4. Set the value of `n_init` explicitly to suppress the warning\n",
      "  warnings.warn(\n",
      "C:\\Users\\patha\\anaconda3\\Lib\\site-packages\\sklearn\\cluster\\_kmeans.py:1382: UserWarning: KMeans is known to have a memory leak on Windows with MKL, when there are less chunks than available threads. You can avoid it by setting the environment variable OMP_NUM_THREADS=1.\n",
      "  warnings.warn(\n"
     ]
    }
   ],
   "source": [
    "X = df.iloc[:,:].values\n",
    "km = KMeans(n_clusters=4)\n",
    "y_means = km.fit_predict(X)"
   ]
  },
  {
   "cell_type": "code",
   "execution_count": 21,
   "id": "45edfb50-c50f-41fa-8877-47f655d1b78d",
   "metadata": {},
   "outputs": [
    {
     "data": {
      "text/plain": [
       "array([0, 1, 2, 2, 1, 1, 2, 3, 1, 2, 0, 1, 2, 0, 1, 2, 1, 2, 1, 1, 2, 0,\n",
       "       2, 0, 0, 2, 0, 3, 2, 1, 3, 1, 3, 1, 2, 2, 3, 1, 0, 1, 0, 2, 2, 0,\n",
       "       3, 3, 2, 1, 3, 1, 0, 0, 3, 2, 3, 1, 1, 3, 1, 3, 1, 2, 2, 3, 0, 3,\n",
       "       2, 0, 1, 2, 1, 3, 2, 0, 1, 3, 1, 3, 0, 2, 2, 3, 1, 0, 3, 0, 3, 1,\n",
       "       3, 1, 3, 3, 2, 0, 2, 2, 3, 2, 0, 3, 1, 0, 0, 3, 0, 0, 2, 0, 3, 3,\n",
       "       2, 3, 1, 1, 2, 3, 2, 1, 3, 0, 0, 1, 2, 3, 2, 0, 2, 1, 0, 2, 2, 1,\n",
       "       0, 0, 1, 3, 1, 0, 2, 2, 2, 0, 1, 0, 0, 3, 0, 3, 1, 0, 3, 0, 3, 3,\n",
       "       0, 2, 1, 3, 1, 2, 0, 3, 1, 2, 3, 0, 1, 0, 0, 3, 3, 1, 3, 0, 0, 2,\n",
       "       3, 1, 0, 3, 3, 1, 1, 1, 2, 0, 2, 2, 3, 1, 2, 2, 0, 0, 2, 0, 3, 1,\n",
       "       1, 3])"
      ]
     },
     "execution_count": 21,
     "metadata": {},
     "output_type": "execute_result"
    }
   ],
   "source": [
    "y_means"
   ]
  },
  {
   "cell_type": "code",
   "execution_count": 22,
   "id": "476b260d-e410-4596-88e4-486979483145",
   "metadata": {},
   "outputs": [
    {
     "data": {
      "text/plain": [
       "array([[  5.13,  88.  ],\n",
       "       [  5.9 , 113.  ],\n",
       "       [  8.36,  93.  ],\n",
       "       [  8.27,  97.  ],\n",
       "       [  5.45, 110.  ],\n",
       "       [  5.88, 109.  ],\n",
       "       [  8.41,  98.  ],\n",
       "       [  8.8 , 115.  ],\n",
       "       [  5.79, 110.  ],\n",
       "       [  8.09,  94.  ],\n",
       "       [  4.6 ,  86.  ],\n",
       "       [  6.1 , 110.  ],\n",
       "       [  8.16,  97.  ],\n",
       "       [  5.  ,  88.  ],\n",
       "       [  5.71, 108.  ],\n",
       "       [  8.31,  95.  ],\n",
       "       [  5.5 , 111.  ],\n",
       "       [  7.87,  91.  ],\n",
       "       [  6.05, 111.  ],\n",
       "       [  5.84, 113.  ],\n",
       "       [  7.47,  98.  ],\n",
       "       [  4.86,  86.  ],\n",
       "       [  7.78,  92.  ],\n",
       "       [  4.78,  87.  ],\n",
       "       [  4.96,  88.  ],\n",
       "       [  7.93,  98.  ],\n",
       "       [  4.86,  87.  ],\n",
       "       [  9.18, 119.  ],\n",
       "       [  8.04,  94.  ],\n",
       "       [  5.43, 106.  ],\n",
       "       [  8.86, 117.  ],\n",
       "       [  6.01, 112.  ],\n",
       "       [  8.83, 118.  ],\n",
       "       [  5.32, 106.  ],\n",
       "       [  7.77,  96.  ],\n",
       "       [  8.  ,  96.  ],\n",
       "       [  8.56, 118.  ],\n",
       "       [  5.91, 108.  ],\n",
       "       [  5.44,  84.  ],\n",
       "       [  5.57, 113.  ],\n",
       "       [  5.34,  85.  ],\n",
       "       [  8.43,  96.  ],\n",
       "       [  8.02,  93.  ],\n",
       "       [  5.31,  86.  ],\n",
       "       [  8.96, 116.  ],\n",
       "       [  8.78, 116.  ],\n",
       "       [  8.14,  94.  ],\n",
       "       [  6.4 , 108.  ],\n",
       "       [  8.45, 119.  ],\n",
       "       [  5.67, 109.  ],\n",
       "       [  5.14,  83.  ],\n",
       "       [  4.95,  86.  ],\n",
       "       [  8.79, 116.  ],\n",
       "       [  8.12,  96.  ],\n",
       "       [  8.81, 115.  ],\n",
       "       [  6.05, 108.  ],\n",
       "       [  5.85, 111.  ],\n",
       "       [  8.88, 115.  ],\n",
       "       [  5.87, 109.  ],\n",
       "       [  9.07, 117.  ],\n",
       "       [  6.02, 104.  ],\n",
       "       [  8.34,  96.  ],\n",
       "       [  8.65,  95.  ],\n",
       "       [  8.92, 118.  ],\n",
       "       [  5.21,  87.  ],\n",
       "       [  8.75, 113.  ],\n",
       "       [  8.53,  93.  ],\n",
       "       [  4.91,  85.  ],\n",
       "       [  5.77, 111.  ],\n",
       "       [  8.29,  95.  ],\n",
       "       [  6.06, 109.  ],\n",
       "       [  8.71, 116.  ],\n",
       "       [  7.93,  94.  ],\n",
       "       [  5.28,  83.  ],\n",
       "       [  5.55, 109.  ],\n",
       "       [  8.86, 118.  ],\n",
       "       [  5.81, 112.  ],\n",
       "       [  9.3 , 117.  ],\n",
       "       [  5.15,  88.  ],\n",
       "       [  8.72,  92.  ],\n",
       "       [  8.14,  91.  ],\n",
       "       [  9.01, 121.  ],\n",
       "       [  5.47, 111.  ],\n",
       "       [  4.9 ,  85.  ],\n",
       "       [  8.97, 116.  ],\n",
       "       [  4.89,  88.  ],\n",
       "       [  9.  , 117.  ],\n",
       "       [  5.74, 109.  ],\n",
       "       [  8.76, 117.  ],\n",
       "       [  5.8 , 108.  ],\n",
       "       [  8.78, 117.  ],\n",
       "       [  9.23, 114.  ],\n",
       "       [  8.2 ,  92.  ],\n",
       "       [  5.05,  86.  ],\n",
       "       [  8.67,  95.  ],\n",
       "       [  8.18,  94.  ],\n",
       "       [  9.03, 118.  ],\n",
       "       [  8.61,  95.  ],\n",
       "       [  4.98,  91.  ],\n",
       "       [  9.13, 118.  ],\n",
       "       [  5.88, 110.  ],\n",
       "       [  5.01,  86.  ],\n",
       "       [  4.95,  88.  ],\n",
       "       [  8.91, 119.  ],\n",
       "       [  4.96,  89.  ],\n",
       "       [  4.85,  86.  ],\n",
       "       [  7.99,  92.  ],\n",
       "       [  4.76,  90.  ],\n",
       "       [  8.98, 118.  ],\n",
       "       [  9.03, 118.  ],\n",
       "       [  8.08,  94.  ],\n",
       "       [  8.86, 117.  ],\n",
       "       [  5.91, 109.  ],\n",
       "       [  5.67, 111.  ],\n",
       "       [  8.26,  91.  ],\n",
       "       [  8.89, 118.  ],\n",
       "       [  8.25,  95.  ],\n",
       "       [  5.74, 108.  ],\n",
       "       [  8.97, 117.  ],\n",
       "       [  4.98,  87.  ],\n",
       "       [  4.78,  87.  ],\n",
       "       [  5.69, 109.  ],\n",
       "       [  8.4 ,  93.  ],\n",
       "       [  8.72, 119.  ],\n",
       "       [  7.84,  97.  ],\n",
       "       [  5.2 ,  85.  ],\n",
       "       [  8.08,  98.  ],\n",
       "       [  6.05, 109.  ],\n",
       "       [  5.05,  87.  ],\n",
       "       [  8.25,  96.  ],\n",
       "       [  8.3 ,  93.  ],\n",
       "       [  6.14, 111.  ],\n",
       "       [  5.01,  83.  ],\n",
       "       [  4.77,  86.  ],\n",
       "       [  5.74, 112.  ],\n",
       "       [  8.93, 118.  ],\n",
       "       [  5.94, 109.  ],\n",
       "       [  4.68,  87.  ],\n",
       "       [  7.9 , 100.  ],\n",
       "       [  7.97,  96.  ],\n",
       "       [  8.21,  94.  ],\n",
       "       [  4.81,  85.  ],\n",
       "       [  5.86, 111.  ],\n",
       "       [  5.03,  87.  ],\n",
       "       [  4.98,  87.  ],\n",
       "       [  8.58, 118.  ],\n",
       "       [  5.32,  88.  ],\n",
       "       [  8.94, 117.  ],\n",
       "       [  6.38, 107.  ],\n",
       "       [  4.86,  88.  ],\n",
       "       [  8.6 , 117.  ],\n",
       "       [  4.89,  85.  ],\n",
       "       [  8.77, 117.  ],\n",
       "       [  8.81, 116.  ],\n",
       "       [  4.88,  86.  ],\n",
       "       [  8.23,  95.  ],\n",
       "       [  6.61, 111.  ],\n",
       "       [  8.54, 118.  ],\n",
       "       [  6.04, 110.  ],\n",
       "       [  8.35,  93.  ],\n",
       "       [  5.01,  86.  ],\n",
       "       [  8.97, 119.  ],\n",
       "       [  6.24, 108.  ],\n",
       "       [  8.33,  92.  ],\n",
       "       [  8.91, 117.  ],\n",
       "       [  4.67,  86.  ],\n",
       "       [  6.1 , 109.  ],\n",
       "       [  5.15,  85.  ],\n",
       "       [  4.97,  88.  ],\n",
       "       [  8.68, 119.  ],\n",
       "       [  9.06, 120.  ],\n",
       "       [  5.8 , 110.  ],\n",
       "       [  8.9 , 117.  ],\n",
       "       [  4.87,  88.  ],\n",
       "       [  5.2 ,  89.  ],\n",
       "       [  8.46,  98.  ],\n",
       "       [  8.94, 115.  ],\n",
       "       [  5.87, 108.  ],\n",
       "       [  4.99,  88.  ],\n",
       "       [  8.91, 115.  ],\n",
       "       [  8.91, 117.  ],\n",
       "       [  5.97, 108.  ],\n",
       "       [  6.17, 110.  ],\n",
       "       [  6.01, 107.  ],\n",
       "       [  7.89,  96.  ],\n",
       "       [  4.79,  88.  ],\n",
       "       [  7.91,  93.  ],\n",
       "       [  8.23,  91.  ],\n",
       "       [  8.95, 116.  ],\n",
       "       [  6.33, 111.  ],\n",
       "       [  8.4 ,  93.  ],\n",
       "       [  8.44,  94.  ],\n",
       "       [  4.76,  89.  ],\n",
       "       [  4.78,  85.  ],\n",
       "       [  8.79,  96.  ],\n",
       "       [  4.68,  89.  ],\n",
       "       [  8.57, 118.  ],\n",
       "       [  5.85, 112.  ],\n",
       "       [  6.23, 108.  ],\n",
       "       [  8.82, 117.  ]])"
      ]
     },
     "execution_count": 22,
     "metadata": {},
     "output_type": "execute_result"
    }
   ],
   "source": [
    "X"
   ]
  },
  {
   "cell_type": "code",
   "execution_count": 25,
   "id": "5a47b0ae-7824-4f1e-9ed2-e5e7228bc300",
   "metadata": {},
   "outputs": [
    {
     "data": {
      "text/plain": [
       "<matplotlib.collections.PathCollection at 0x264e4ed2250>"
      ]
     },
     "execution_count": 25,
     "metadata": {},
     "output_type": "execute_result"
    },
    {
     "data": {
      "image/png": "[encoded data removed]",
      "text/plain": [
       "<Figure size 640x480 with 1 Axes>"
      ]
     },
     "metadata": {},
     "output_type": "display_data"
    }
   ],
   "source": [
    "plt.scatter(X[y_means ==0,0],X[y_means ==0,1],color='blue')\n",
    "plt.scatter(X[y_means ==1,0],X[y_means ==1,1],color='red')\n",
    "plt.scatter(X[y_means ==2,0],X[y_means ==2,1],color='yellow')\n",
    "plt.scatter(X[y_means ==3,0],X[y_means ==3,1],color='green')"
   ]
  },
  {
   "cell_type": "code",
   "execution_count": null,
   "id": "c3b8fc79-332e-46dc-ae8e-0a794e51d83c",
   "metadata": {},
   "outputs": [],
   "source": []
  },
  {
   "cell_type": "code",
   "execution_count": null,
   "id": "1a3b131e-9312-4701-9175-ac5ced69072a",
   "metadata": {},
   "outputs": [],
   "source": []
  },
  {
   "cell_type": "code",
   "execution_count": null,
   "id": "1e3f436c-37c2-43fd-a33b-b4cde2be3167",
   "metadata": {},
   "outputs": [],
   "source": []
  },
  {
   "cell_type": "code",
   "execution_count": null,
   "id": "21a74368-1e6c-4917-a7cd-20548118513c",
   "metadata": {},
   "outputs": [],
   "source": []
  },
  {
   "cell_type": "code",
   "execution_count": null,
   "id": "38e54ea7-7f61-46a7-9009-09b33a1832ce",
   "metadata": {},
   "outputs": [],
   "source": []
  },
  {
   "cell_type": "code",
   "execution_count": null,
   "id": "77c470bf-6f6c-4e68-ba37-cb5be5129580",
   "metadata": {},
   "outputs": [],
   "source": []
  },
  {
   "cell_type": "code",
   "execution_count": null,
   "id": "b4a877f9-2429-43a9-95b7-0cd594a15df3",
   "metadata": {},
   "outputs": [],
   "source": []
  }
 ],
 "metadata": {
  "kernelspec": {
   "display_name": "Python 3 (ipykernel)",
   "language": "python",
   "name": "python3"
  },
  "language_info": {
   "codemirror_mode": {
    "name": "ipython",
    "version": 3
   },
   "file_extension": ".py",
   "mimetype": "text/x-python",
   "name": "python",
   "nbconvert_exporter": "python",
   "pygments_lexer": "ipython3",
   "version": "3.11.7"
  }
 },
 "nbformat": 4,
 "nbformat_minor": 5
}
