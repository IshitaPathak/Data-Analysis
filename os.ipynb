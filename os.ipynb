{
 "cells": [
  {
   "cell_type": "markdown",
   "id": "4ff16763-4f48-4490-aa58-f460bdf06529",
   "metadata": {},
   "source": [
    "## interacting with os and filesystem\n",
    "#### the os module in python provides many fuunctions for interacting with the OS and the file system"
   ]
  },
  {
   "cell_type": "code",
   "execution_count": 2,
   "id": "fe2a0516-0ed7-4c71-a147-efb61ea099dd",
   "metadata": {},
   "outputs": [],
   "source": [
    "import os"
   ]
  },
  {
   "cell_type": "code",
   "execution_count": 3,
   "id": "9f3a9597-13ef-472a-8940-e6794c010566",
   "metadata": {},
   "outputs": [
    {
     "data": {
      "text/plain": [
       "'C:\\\\Users\\\\patha\\\\Desktop\\\\Data-Analysis'"
      ]
     },
     "execution_count": 3,
     "metadata": {},
     "output_type": "execute_result"
    }
   ],
   "source": [
    "os.getcwd()"
   ]
  },
  {
   "cell_type": "code",
   "execution_count": null,
   "id": "0b26a6b8-ce2a-4915-b80a-b2fe9065f87f",
   "metadata": {},
   "outputs": [],
   "source": []
  },
  {
   "cell_type": "code",
   "execution_count": 5,
   "id": "77970ad6-b8bc-479c-98cb-303f5efd5f48",
   "metadata": {},
   "outputs": [
    {
     "data": {
      "text/plain": [
       "['.git',\n",
       " '.ipynb_checkpoints',\n",
       " 'climate.txt',\n",
       " 'climate_result.txt',\n",
       " 'fcc01.ipynb',\n",
       " 'README.md',\n",
       " 'Untitled.ipynb']"
      ]
     },
     "execution_count": 5,
     "metadata": {},
     "output_type": "execute_result"
    }
   ],
   "source": [
    "os.listdir('.') #relative path"
   ]
  },
  {
   "cell_type": "code",
   "execution_count": 13,
   "id": "47bedddd-0177-46f7-ac28-17469b3c6550",
   "metadata": {},
   "outputs": [],
   "source": [
    "os.makedirs('./data',exist_ok=True)"
   ]
  },
  {
   "cell_type": "code",
   "execution_count": 14,
   "id": "4329192a-c14c-4c54-8597-04c4aa75b631",
   "metadata": {},
   "outputs": [
    {
     "data": {
      "text/plain": [
       "True"
      ]
     },
     "execution_count": 14,
     "metadata": {},
     "output_type": "execute_result"
    }
   ],
   "source": [
    "'data' in os.listdir('.')"
   ]
  },
  {
   "cell_type": "code",
   "execution_count": 15,
   "id": "eb18e894-3f50-4581-8548-4af26434ac83",
   "metadata": {},
   "outputs": [
    {
     "data": {
      "text/plain": [
       "[]"
      ]
     },
     "execution_count": 15,
     "metadata": {},
     "output_type": "execute_result"
    }
   ],
   "source": [
    "os.listdir('./data')"
   ]
  },
  {
   "cell_type": "markdown",
   "id": "afe3a0cf-83f1-4f39-8498-ba700ded13b6",
   "metadata": {},
   "source": [
    "##### lets download some files into the data directory using the urllib module"
   ]
  },
  {
   "cell_type": "code",
   "execution_count": 16,
   "id": "b7c3dc11-c5a9-47da-870e-f399616e9edb",
   "metadata": {},
   "outputs": [],
   "source": [
    "url1 = 'https://gist.githubusercontent.com/aakashns/257f6e6c8719c17d0e498ea287d1a386/raw/7def9ef4234ddf0bc82f855ad67dac8b971852ef/loans1.txt'\n",
    "url2 = 'https://gist.githubusercontent.com/aakashns/257f6e6c8719c17d0e498ea287d1a386/raw/7def9ef4234ddf0bc82f855ad67dac8b971852ef/loans2.txt'\n",
    "url3 = 'https://gist.githubusercontent.com/aakashns/257f6e6c8719c17d0e498ea287d1a386/raw/7def9ef4234ddf0bc82f855ad67dac8b971852ef/loans3.txt'"
   ]
  },
  {
   "cell_type": "code",
   "execution_count": 17,
   "id": "313a5c65-75d8-4a2e-bfc6-793bc1b4080d",
   "metadata": {},
   "outputs": [],
   "source": [
    "import urllib.request"
   ]
  },
  {
   "cell_type": "code",
   "execution_count": 18,
   "id": "77eae73c-44ba-4b09-b0cc-175b5da5fdc3",
   "metadata": {},
   "outputs": [
    {
     "data": {
      "text/plain": [
       "('./data/lons1.csv', <http.client.HTTPMessage at 0x1e48c7d2950>)"
      ]
     },
     "execution_count": 18,
     "metadata": {},
     "output_type": "execute_result"
    }
   ],
   "source": [
    "urllib.request.urlretrieve(url1,'./data/lons1.csv')"
   ]
  },
  {
   "cell_type": "code",
   "execution_count": 21,
   "id": "d069d2c9-8454-461a-8052-132a63214bbe",
   "metadata": {},
   "outputs": [
    {
     "data": {
      "text/plain": [
       "('./data/lons2.csv', <http.client.HTTPMessage at 0x1e48d484a10>)"
      ]
     },
     "execution_count": 21,
     "metadata": {},
     "output_type": "execute_result"
    }
   ],
   "source": [
    "urllib.request.urlretrieve(url1,'./data/lons2.csv')"
   ]
  },
  {
   "cell_type": "code",
   "execution_count": 20,
   "id": "bce7fabb-1404-4d2b-bd3a-4dd40e419e9f",
   "metadata": {},
   "outputs": [
    {
     "data": {
      "text/plain": [
       "('./data/lons3.csv', <http.client.HTTPMessage at 0x1e48d486b10>)"
      ]
     },
     "execution_count": 20,
     "metadata": {},
     "output_type": "execute_result"
    }
   ],
   "source": [
    "urllib.request.urlretrieve(url1,'./data/lons3.csv')"
   ]
  },
  {
   "cell_type": "code",
   "execution_count": 22,
   "id": "494fc613-2bfa-4f5c-89d7-4f5d2d1e1db5",
   "metadata": {},
   "outputs": [
    {
     "data": {
      "text/plain": [
       "['.ipynb_checkpoints', 'lons1.csv', 'lons2.csv', 'lons2.txt', 'lons3.csv']"
      ]
     },
     "execution_count": 22,
     "metadata": {},
     "output_type": "execute_result"
    }
   ],
   "source": [
    "os.listdir('./data')"
   ]
  },
  {
   "cell_type": "code",
   "execution_count": null,
   "id": "0a5377be-6512-4fdc-9e1f-1c199c41f52e",
   "metadata": {},
   "outputs": [],
   "source": []
  },
  {
   "cell_type": "code",
   "execution_count": 29,
   "id": "8970180f-013d-4ce0-8c07-ee50e1db52d9",
   "metadata": {},
   "outputs": [],
   "source": [
    "# Define the path to the root directory\n",
    "root_directory = \".\"\n",
    "\n",
    "# Define the file name\n",
    "file_name = \"panda_package.ipynb\"\n",
    "\n",
    "# Join the root directory path and file name\n",
    "file_path = os.path.join(root_directory, file_name)"
   ]
  },
  {
   "cell_type": "code",
   "execution_count": null,
   "id": "7e9948b0-805e-4b7a-b4db-c5c451b3f96e",
   "metadata": {},
   "outputs": [],
   "source": []
  }
 ],
 "metadata": {
  "kernelspec": {
   "display_name": "Python 3 (ipykernel)",
   "language": "python",
   "name": "python3"
  },
  "language_info": {
   "codemirror_mode": {
    "name": "ipython",
    "version": 3
   },
   "file_extension": ".py",
   "mimetype": "text/x-python",
   "name": "python",
   "nbconvert_exporter": "python",
   "pygments_lexer": "ipython3",
   "version": "3.11.7"
  }
 },
 "nbformat": 4,
 "nbformat_minor": 5
}
