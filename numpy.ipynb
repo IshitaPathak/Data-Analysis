{
 "cells": [
  {
   "cell_type": "code",
   "execution_count": 13,
   "id": "e1354925-8d9f-4c73-896f-e805fe8919a5",
   "metadata": {},
   "outputs": [
    {
     "data": {
      "text/plain": [
       "[23, 32, 1, 14]"
      ]
     },
     "execution_count": 13,
     "metadata": {},
     "output_type": "execute_result"
    }
   ],
   "source": [
    "demo=[23,32,1,14]\n",
    "demo"
   ]
  },
  {
   "cell_type": "code",
   "execution_count": 14,
   "id": "c97eaaf2-546f-4938-a97a-34afeddac370",
   "metadata": {},
   "outputs": [
    {
     "name": "stdout",
     "output_type": "stream",
     "text": [
      "Requirement already satisfied: numpy in c:\\users\\patha\\anaconda3\\lib\\site-packages (1.26.4)\n"
     ]
    }
   ],
   "source": [
    "!pip install numpy"
   ]
  },
  {
   "cell_type": "code",
   "execution_count": 15,
   "id": "46b59601-e17a-4cfd-bb17-48f0523a4927",
   "metadata": {},
   "outputs": [],
   "source": [
    "import numpy as np"
   ]
  },
  {
   "cell_type": "code",
   "execution_count": 16,
   "id": "216fa97c-e18c-46c0-b988-5070ee67ce3e",
   "metadata": {},
   "outputs": [
    {
     "data": {
      "text/plain": [
       "array([312, 432, 343,  21])"
      ]
     },
     "execution_count": 16,
     "metadata": {},
     "output_type": "execute_result"
    }
   ],
   "source": [
    "demo=np.array([312,432,343,21])\n",
    "demo"
   ]
  },
  {
   "cell_type": "code",
   "execution_count": 17,
   "id": "f87b5a16-84ea-4fdb-8b85-8f41e5911da3",
   "metadata": {},
   "outputs": [],
   "source": [
    "w1=2\n",
    "w2=3\n",
    "w3=1\n",
    "w4=0"
   ]
  },
  {
   "cell_type": "code",
   "execution_count": 18,
   "id": "f2f3f746-feaf-4ebd-8e59-b9d74dd90ce9",
   "metadata": {},
   "outputs": [
    {
     "data": {
      "text/plain": [
       "[2, 3, 1, 0]"
      ]
     },
     "execution_count": 18,
     "metadata": {},
     "output_type": "execute_result"
    }
   ],
   "source": [
    "weights=[w1,w2,w3,w4]\n",
    "weights\n"
   ]
  },
  {
   "cell_type": "markdown",
   "id": "4322dc9f-a4c4-4ad8-9b2d-78137d2b5087",
   "metadata": {},
   "source": [
    "type(weights)"
   ]
  },
  {
   "cell_type": "code",
   "execution_count": 19,
   "id": "051b8cc8-c084-4a05-8c2e-c8a3f5e0f714",
   "metadata": {},
   "outputs": [
    {
     "data": {
      "text/plain": [
       "array([2, 3, 1, 0])"
      ]
     },
     "execution_count": 19,
     "metadata": {},
     "output_type": "execute_result"
    }
   ],
   "source": [
    "weights=np.array([w1,w2,w3,w4])\n",
    "weights"
   ]
  },
  {
   "cell_type": "code",
   "execution_count": 20,
   "id": "abae6652-267d-4b71-b581-1c31b812249f",
   "metadata": {},
   "outputs": [
    {
     "data": {
      "text/plain": [
       "numpy.ndarray"
      ]
     },
     "execution_count": 20,
     "metadata": {},
     "output_type": "execute_result"
    }
   ],
   "source": [
    "type(demo)\n",
    "# type(weights)"
   ]
  },
  {
   "cell_type": "markdown",
   "id": "873eeba7-3f34-49e1-b78f-102be66136ac",
   "metadata": {},
   "source": [
    "# operating on numpy array"
   ]
  },
  {
   "cell_type": "code",
   "execution_count": 21,
   "id": "a3a0e15c-3ec3-4872-9708-63bd7549e0df",
   "metadata": {},
   "outputs": [
    {
     "name": "stdout",
     "output_type": "stream",
     "text": [
      "Help on _ArrayFunctionDispatcher in module numpy:\n",
      "\n",
      "dot(...)\n",
      "    dot(a, b, out=None)\n",
      "    \n",
      "    Dot product of two arrays. Specifically,\n",
      "    \n",
      "    - If both `a` and `b` are 1-D arrays, it is inner product of vectors\n",
      "      (without complex conjugation).\n",
      "    \n",
      "    - If both `a` and `b` are 2-D arrays, it is matrix multiplication,\n",
      "      but using :func:`matmul` or ``a @ b`` is preferred.\n",
      "    \n",
      "    - If either `a` or `b` is 0-D (scalar), it is equivalent to\n",
      "      :func:`multiply` and using ``numpy.multiply(a, b)`` or ``a * b`` is\n",
      "      preferred.\n",
      "    \n",
      "    - If `a` is an N-D array and `b` is a 1-D array, it is a sum product over\n",
      "      the last axis of `a` and `b`.\n",
      "    \n",
      "    - If `a` is an N-D array and `b` is an M-D array (where ``M>=2``), it is a\n",
      "      sum product over the last axis of `a` and the second-to-last axis of\n",
      "      `b`::\n",
      "    \n",
      "        dot(a, b)[i,j,k,m] = sum(a[i,j,:] * b[k,:,m])\n",
      "    \n",
      "    It uses an optimized BLAS library when possible (see `numpy.linalg`).\n",
      "    \n",
      "    Parameters\n",
      "    ----------\n",
      "    a : array_like\n",
      "        First argument.\n",
      "    b : array_like\n",
      "        Second argument.\n",
      "    out : ndarray, optional\n",
      "        Output argument. This must have the exact kind that would be returned\n",
      "        if it was not used. In particular, it must have the right type, must be\n",
      "        C-contiguous, and its dtype must be the dtype that would be returned\n",
      "        for `dot(a,b)`. This is a performance feature. Therefore, if these\n",
      "        conditions are not met, an exception is raised, instead of attempting\n",
      "        to be flexible.\n",
      "    \n",
      "    Returns\n",
      "    -------\n",
      "    output : ndarray\n",
      "        Returns the dot product of `a` and `b`.  If `a` and `b` are both\n",
      "        scalars or both 1-D arrays then a scalar is returned; otherwise\n",
      "        an array is returned.\n",
      "        If `out` is given, then it is returned.\n",
      "    \n",
      "    Raises\n",
      "    ------\n",
      "    ValueError\n",
      "        If the last dimension of `a` is not the same size as\n",
      "        the second-to-last dimension of `b`.\n",
      "    \n",
      "    See Also\n",
      "    --------\n",
      "    vdot : Complex-conjugating dot product.\n",
      "    tensordot : Sum products over arbitrary axes.\n",
      "    einsum : Einstein summation convention.\n",
      "    matmul : '@' operator as method with out parameter.\n",
      "    linalg.multi_dot : Chained dot product.\n",
      "    \n",
      "    Examples\n",
      "    --------\n",
      "    >>> np.dot(3, 4)\n",
      "    12\n",
      "    \n",
      "    Neither argument is complex-conjugated:\n",
      "    \n",
      "    >>> np.dot([2j, 3j], [2j, 3j])\n",
      "    (-13+0j)\n",
      "    \n",
      "    For 2-D arrays it is the matrix product:\n",
      "    \n",
      "    >>> a = [[1, 0], [0, 1]]\n",
      "    >>> b = [[4, 1], [2, 2]]\n",
      "    >>> np.dot(a, b)\n",
      "    array([[4, 1],\n",
      "           [2, 2]])\n",
      "    \n",
      "    >>> a = np.arange(3*4*5*6).reshape((3,4,5,6))\n",
      "    >>> b = np.arange(3*4*5*6)[::-1].reshape((5,4,6,3))\n",
      "    >>> np.dot(a, b)[2,3,2,1,2,2]\n",
      "    499128\n",
      "    >>> sum(a[2,3,2,:] * b[1,2,:,2])\n",
      "    499128\n",
      "\n"
     ]
    }
   ],
   "source": [
    "help(np.dot)"
   ]
  },
  {
   "cell_type": "code",
   "execution_count": 22,
   "id": "1c5ba646-0687-4b90-9ae6-afb78f37f2cd",
   "metadata": {},
   "outputs": [
    {
     "data": {
      "text/plain": [
       "array([312, 432, 343,  21])"
      ]
     },
     "execution_count": 22,
     "metadata": {},
     "output_type": "execute_result"
    }
   ],
   "source": [
    "demo"
   ]
  },
  {
   "cell_type": "code",
   "execution_count": 23,
   "id": "2fdcfe73-de42-4f3c-8319-9d7d5f23796f",
   "metadata": {},
   "outputs": [
    {
     "data": {
      "text/plain": [
       "array([2, 3, 1, 0])"
      ]
     },
     "execution_count": 23,
     "metadata": {},
     "output_type": "execute_result"
    }
   ],
   "source": [
    "weights"
   ]
  },
  {
   "cell_type": "code",
   "execution_count": 24,
   "id": "995819a7-8878-480c-9bc9-0fc6ce6cc959",
   "metadata": {},
   "outputs": [
    {
     "data": {
      "text/plain": [
       "2263"
      ]
     },
     "execution_count": 24,
     "metadata": {},
     "output_type": "execute_result"
    }
   ],
   "source": [
    "np.dot(demo,weights)"
   ]
  },
  {
   "cell_type": "code",
   "execution_count": 25,
   "id": "67afbc11-93df-4ca4-9a2c-9f850c0d7cbe",
   "metadata": {},
   "outputs": [
    {
     "data": {
      "text/plain": [
       "2263"
      ]
     },
     "execution_count": 25,
     "metadata": {},
     "output_type": "execute_result"
    }
   ],
   "source": [
    "(demo*weights).sum()"
   ]
  },
  {
   "cell_type": "code",
   "execution_count": 26,
   "id": "4fc85bbe-d6bc-4b17-9097-dd05aaa24ad3",
   "metadata": {},
   "outputs": [],
   "source": [
    "# python lists\n",
    "arr1=list(range(100000))\n",
    "arr2=list(range(100000,200000))\n",
    "\n",
    "# numpy array\n",
    "arr1_np=np.array(arr1)\n",
    "arr2_np=np.array(arr2)"
   ]
  },
  {
   "cell_type": "code",
   "execution_count": 27,
   "id": "81559b6f-1f22-4d92-b006-1a19849e0000",
   "metadata": {},
   "outputs": [
    {
     "name": "stdout",
     "output_type": "stream",
     "text": [
      "CPU times: total: 31.2 ms\n",
      "Wall time: 52.9 ms\n"
     ]
    },
    {
     "data": {
      "text/plain": [
       "833323333350000"
      ]
     },
     "execution_count": 27,
     "metadata": {},
     "output_type": "execute_result"
    }
   ],
   "source": [
    "%%time\n",
    "result=0\n",
    "for x1,x2 in zip(arr1,arr2):\n",
    "    result+=x1*x2\n",
    "result"
   ]
  },
  {
   "cell_type": "markdown",
   "id": "93dfdbbd-85cb-4837-a2f2-b49723f91ebd",
   "metadata": {},
   "source": [
    "## multi-dimensional numpy array"
   ]
  },
  {
   "cell_type": "code",
   "execution_count": 28,
   "id": "322177f2-e454-4aa3-8da2-e88877743fbc",
   "metadata": {},
   "outputs": [
    {
     "data": {
      "text/plain": [
       "array([[ 73,  67,  43],\n",
       "       [ 91,  88,  64],\n",
       "       [ 87, 134,  58],\n",
       "       [102,  43,  37],\n",
       "       [ 69,  96,  70]])"
      ]
     },
     "execution_count": 28,
     "metadata": {},
     "output_type": "execute_result"
    }
   ],
   "source": [
    "climate_data = np.array([[73, 67, 43],\n",
    "                         [91, 88, 64],\n",
    "                         [87, 134, 58],\n",
    "                         [102, 43, 37],\n",
    "                         [69, 96, 70]])\n",
    "climate_data"
   ]
  },
  {
   "cell_type": "code",
   "execution_count": 29,
   "id": "4b2b90cb-6489-44d5-9fef-e6a9a71f009c",
   "metadata": {},
   "outputs": [],
   "source": [
    "# 3D array \n",
    "arr3 = np.array([\n",
    "    [[11, 12, 13], \n",
    "     [13, 14, 15]], \n",
    "    [[15, 16, 17], \n",
    "     [17, 18, 19.5]]])"
   ]
  },
  {
   "cell_type": "code",
   "execution_count": 30,
   "id": "b9bc0a66-7ce5-45b5-87fd-f6b7c104dcbe",
   "metadata": {},
   "outputs": [
    {
     "data": {
      "text/plain": [
       "(2, 2, 3)"
      ]
     },
     "execution_count": 30,
     "metadata": {},
     "output_type": "execute_result"
    }
   ],
   "source": [
    "arr3.shape"
   ]
  },
  {
   "cell_type": "code",
   "execution_count": 31,
   "id": "b1bea705-3b5b-4a97-a485-407b3495ec04",
   "metadata": {},
   "outputs": [
    {
     "ename": "AttributeError",
     "evalue": "'numpy.ndarray' object has no attribute 'type'",
     "output_type": "error",
     "traceback": [
      "\u001b[1;31m---------------------------------------------------------------------------\u001b[0m",
      "\u001b[1;31mAttributeError\u001b[0m                            Traceback (most recent call last)",
      "Cell \u001b[1;32mIn[31], line 1\u001b[0m\n\u001b[1;32m----> 1\u001b[0m arr3\u001b[38;5;241m.\u001b[39mtype\n",
      "\u001b[1;31mAttributeError\u001b[0m: 'numpy.ndarray' object has no attribute 'type'"
     ]
    }
   ],
   "source": [
    "arr3.type"
   ]
  },
  {
   "cell_type": "code",
   "execution_count": null,
   "id": "abbbcff5-f3b3-4649-abc4-17321068b1c6",
   "metadata": {},
   "outputs": [],
   "source": [
    "climate_data.dtype"
   ]
  },
  {
   "cell_type": "code",
   "execution_count": null,
   "id": "94fafb80-0ce6-4cbf-9e07-9d2e473264ee",
   "metadata": {},
   "outputs": [],
   "source": [
    "arr3"
   ]
  },
  {
   "cell_type": "code",
   "execution_count": null,
   "id": "72726fbe-3cc1-4d05-81df-7a5c969fbd0d",
   "metadata": {},
   "outputs": [],
   "source": [
    "climate_data"
   ]
  },
  {
   "cell_type": "code",
   "execution_count": null,
   "id": "a38e0fca-9d04-494d-b73c-9b8ec49967af",
   "metadata": {},
   "outputs": [],
   "source": [
    "weights2=[2,3,4]\n",
    "weights=np.array(weights2)"
   ]
  },
  {
   "cell_type": "code",
   "execution_count": null,
   "id": "5decf08c-cac1-4224-aaf9-2b747e2fdd94",
   "metadata": {},
   "outputs": [],
   "source": [
    "weights2"
   ]
  },
  {
   "cell_type": "code",
   "execution_count": null,
   "id": "e1eea2d8-5a81-4196-a6d1-669f3a7f53bd",
   "metadata": {},
   "outputs": [],
   "source": [
    "np.matmul(climate_data,weights2)"
   ]
  },
  {
   "cell_type": "code",
   "execution_count": null,
   "id": "4170c26b-9473-4275-b509-6bfc3a16e68f",
   "metadata": {},
   "outputs": [],
   "source": [
    "climate_data @ weights2"
   ]
  },
  {
   "cell_type": "code",
   "execution_count": null,
   "id": "96fdd561-57cc-4803-b861-8c16606171af",
   "metadata": {},
   "outputs": [],
   "source": [
    "import urllib.request\n",
    "\n",
    "urllib.request.urlretrieve(\n",
    "    'https://gist.github.com/BirajCoder/a4ffcb76fd6fb221d76ac2ee2b8584e9/raw/4054f90adfd361b7aa4255e99c2e874664094cea/climate.csv', \n",
    "    'climate.txt')"
   ]
  },
  {
   "cell_type": "code",
   "execution_count": null,
   "id": "60f59918-65a0-4715-b0c1-3da447d1d52b",
   "metadata": {},
   "outputs": [],
   "source": [
    "climate_data = np.genfromtxt('climate.txt', delimiter=',', skip_header=1)"
   ]
  },
  {
   "cell_type": "code",
   "execution_count": null,
   "id": "b680c923-19db-4aee-85d9-7d038e642356",
   "metadata": {},
   "outputs": [],
   "source": [
    "climate_data"
   ]
  },
  {
   "cell_type": "code",
   "execution_count": null,
   "id": "114704a9-946b-4401-a911-2d20f3444105",
   "metadata": {},
   "outputs": [],
   "source": [
    "climate_data.shape"
   ]
  },
  {
   "cell_type": "code",
   "execution_count": null,
   "id": "73809792-52d5-421f-b0b9-8e9ae35bf366",
   "metadata": {},
   "outputs": [],
   "source": [
    "weights4=np.array([0.2,0.3,0.5,0.6])\n",
    "weights4"
   ]
  },
  {
   "cell_type": "code",
   "execution_count": null,
   "id": "bf587ee3-49ce-4497-bb08-19b1aeed2694",
   "metadata": {},
   "outputs": [],
   "source": [
    "yeilds = climate_data @ weights\n",
    "yeilds"
   ]
  },
  {
   "cell_type": "code",
   "execution_count": null,
   "id": "a4ebdc85-3a6e-42c2-8fdc-0cfd66606003",
   "metadata": {},
   "outputs": [],
   "source": [
    "yeilds.shape"
   ]
  },
  {
   "cell_type": "code",
   "execution_count": null,
   "id": "cff770eb-f95a-4840-b1e7-c9fa861daefe",
   "metadata": {},
   "outputs": [],
   "source": [
    "climate_results=np.concatenate((climate_data,yeilds.reshape(10000,1)),axis=1)\n",
    "climate_results"
   ]
  },
  {
   "cell_type": "code",
   "execution_count": null,
   "id": "d7b64005-364c-4fdd-9613-41be3744d85d",
   "metadata": {},
   "outputs": [],
   "source": [
    "np.savetxt('climate_result.txt',climate_results,fmt='%.2f',header='temperature,rainfall,humidity,yeilds_appels',comments='')"
   ]
  },
  {
   "cell_type": "code",
   "execution_count": 34,
   "id": "06911a9c-7dcc-497b-bbca-8179252b0614",
   "metadata": {},
   "outputs": [
    {
     "data": {
      "text/plain": [
       "(3, 4)"
      ]
     },
     "execution_count": 34,
     "metadata": {},
     "output_type": "execute_result"
    }
   ],
   "source": [
    "# array broadcasting\n",
    "arr2 = np.array([[1, 2, 3, 4], \n",
    "                 [5, 6, 7, 8], \n",
    "                 [9, 1, 2, 3]])\n",
    "arr2.shape"
   ]
  },
  {
   "cell_type": "code",
   "execution_count": 35,
   "id": "87bb7c1d-c405-4c4b-998a-0407bb974669",
   "metadata": {},
   "outputs": [
    {
     "data": {
      "text/plain": [
       "(4,)"
      ]
     },
     "execution_count": 35,
     "metadata": {},
     "output_type": "execute_result"
    }
   ],
   "source": [
    "arr4 = np.array([4, 5, 6, 7])\n",
    "arr4.shape"
   ]
  },
  {
   "cell_type": "code",
   "execution_count": 36,
   "id": "c97bcc02-f83d-4ef5-8b6f-746e37b73130",
   "metadata": {},
   "outputs": [
    {
     "data": {
      "text/plain": [
       "array([[ 5,  7,  9, 11],\n",
       "       [ 9, 11, 13, 15],\n",
       "       [13,  6,  8, 10]])"
      ]
     },
     "execution_count": 36,
     "metadata": {},
     "output_type": "execute_result"
    }
   ],
   "source": [
    "arr2 + arr4"
   ]
  },
  {
   "cell_type": "code",
   "execution_count": 37,
   "id": "33c44c4b-d4c3-4bc9-9cbd-8eca6cece7ba",
   "metadata": {},
   "outputs": [
    {
     "data": {
      "text/plain": [
       "array([[False,  True,  True],\n",
       "       [False, False,  True]])"
      ]
     },
     "execution_count": 37,
     "metadata": {},
     "output_type": "execute_result"
    }
   ],
   "source": [
    "# array comparision\n",
    "arr1 = np.array([[1, 2, 3], [3, 4, 5]])\n",
    "arr2 = np.array([[2, 2, 3], [1, 2, 5]])\n",
    "\n",
    "arr1==arr2"
   ]
  },
  {
   "cell_type": "markdown",
   "id": "3c04939c-618a-4f80-9b60-f42fefe265bf",
   "metadata": {},
   "source": [
    "## array indexing and slicing"
   ]
  },
  {
   "cell_type": "code",
   "execution_count": 38,
   "id": "3c12b869-7cbe-4a48-a376-465ecfea245f",
   "metadata": {},
   "outputs": [],
   "source": [
    "arr3 = np.array([\n",
    "    [[11, 12, 13, 14], \n",
    "     [13, 14, 15, 19]], \n",
    "    \n",
    "    [[15, 16, 17, 21], \n",
    "     [63, 92, 36, 18]], \n",
    "    \n",
    "    [[98, 32, 81, 23],      \n",
    "     [17, 18, 19.5, 43]]])"
   ]
  },
  {
   "cell_type": "code",
   "execution_count": 40,
   "id": "29add517-c6f2-480d-b48e-891f8b46642e",
   "metadata": {},
   "outputs": [
    {
     "data": {
      "text/plain": [
       "(3, 2, 4)"
      ]
     },
     "execution_count": 40,
     "metadata": {},
     "output_type": "execute_result"
    }
   ],
   "source": [
    "arr3.shape"
   ]
  },
  {
   "cell_type": "code",
   "execution_count": 41,
   "id": "8b6b2e62-892a-4f93-956b-57bb639b3055",
   "metadata": {},
   "outputs": [
    {
     "data": {
      "text/plain": [
       "36.0"
      ]
     },
     "execution_count": 41,
     "metadata": {},
     "output_type": "execute_result"
    }
   ],
   "source": [
    "# single element\n",
    "arr3[1,1,2]"
   ]
  },
  {
   "cell_type": "code",
   "execution_count": 43,
   "id": "763d929b-6d22-4cb7-bc2e-71422f7dfd4c",
   "metadata": {},
   "outputs": [
    {
     "data": {
      "text/plain": [
       "array([[[15. , 16. , 17. , 21. ],\n",
       "        [63. , 92. , 36. , 18. ]],\n",
       "\n",
       "       [[98. , 32. , 81. , 23. ],\n",
       "        [17. , 18. , 19.5, 43. ]]])"
      ]
     },
     "execution_count": 43,
     "metadata": {},
     "output_type": "execute_result"
    }
   ],
   "source": [
    "# range\n",
    "arr3[1: , 0:1, :2"
   ]
  },
  {
   "cell_type": "code",
   "execution_count": null,
   "id": "0e12f16d-9212-48cd-bb10-8d3cb35384bb",
   "metadata": {},
   "outputs": [],
   "source": []
  }
 ],
 "metadata": {
  "kernelspec": {
   "display_name": "Python 3 (ipykernel)",
   "language": "python",
   "name": "python3"
  },
  "language_info": {
   "codemirror_mode": {
    "name": "ipython",
    "version": 3
   },
   "file_extension": ".py",
   "mimetype": "text/x-python",
   "name": "python",
   "nbconvert_exporter": "python",
   "pygments_lexer": "ipython3",
   "version": "3.11.7"
  }
 },
 "nbformat": 4,
 "nbformat_minor": 5
}
